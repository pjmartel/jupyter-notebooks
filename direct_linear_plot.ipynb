{
  "nbformat": 4,
  "nbformat_minor": 0,
  "metadata": {
    "colab": {
      "name": "direct_linear_plot",
      "version": "0.3.2",
      "provenance": [],
      "collapsed_sections": []
    },
    "kernelspec": {
      "name": "python3",
      "display_name": "Python 3"
    }
  },
  "cells": [
    {
      "cell_type": "code",
      "metadata": {
        "id": "yIO6gG0_JCJm",
        "colab_type": "code",
        "colab": {}
      },
      "source": [
        "import numpy as np\n",
        "import matplotlib.pyplot as plt\n",
        "from matplotlib import style\n",
        "import pandas as pd\n",
        "style.use('ggplot')\n"
      ],
      "execution_count": 0,
      "outputs": []
    },
    {
      "cell_type": "code",
      "metadata": {
        "id": "X6ZQU5xiJQU1",
        "colab_type": "code",
        "colab": {}
      },
      "source": [
        "# Function to validate input by data type\n",
        "def check_input(f_type,message):\n",
        "  flag = True\n",
        "  while flag:\n",
        "    value = input(message)\n",
        "    try:\n",
        "      value = f_type(value)\n",
        "      flag = False\n",
        "    except ValueError:\n",
        "      pass\n",
        "  return value\n",
        "\n",
        "# Read the data:\n",
        "# npoints with nrepl replicates eacht.\n",
        "# Repeat a line by answerting \"No\" to \"Input OK?\"\n",
        "npoints = check_input(int,\"Number of points? \")\n",
        "nrepl = check_input(int,\"Number of replicates? \")\n",
        "s = np.zeros(npoints)\n",
        "v = np.zeros((npoints, nrepl))\n",
        "i = 0\n",
        "while i < npoints:\n",
        "  s[i] = check_input(float,\"Substrate concentration? \")\n",
        "  for j in range(nrepl):\n",
        "    v[i,j] = check_input(float,\"Velocity(Replicate {})? \".format(j+1))\n",
        "  bq = input(\"Input OK? (y/n)\")\n",
        "  if bq.upper()[0] == \"N\":\n",
        "    i = i - 1\n",
        "  i = i + 1\n",
        "      \n",
        "# print the data\n",
        "np.hstack((s.reshape(-1,1),v))\n",
        "  "
      ],
      "execution_count": 0,
      "outputs": []
    },
    {
      "cell_type": "code",
      "metadata": {
        "id": "hmayu-_cX6U1",
        "colab_type": "code",
        "cellView": "form",
        "colab": {}
      },
      "source": [
        "#@title Example data (uncomment)\n",
        "#\n",
        "# Example data\n",
        "# x = np.array([[ 1.   , -1.003,  6.868,  4.254],\n",
        "#              [ 6.   , 24.747, 27.017, 25.237],\n",
        "#              [11.   , 36.619, 38.776, 42.157],\n",
        "#              [16.   , 39.641, 43.188, 48.65 ],\n",
        "#              [21.   , 47.674, 50.211, 53.12 ],\n",
        "#              [26.   , 53.475, 56.319, 48.891],\n",
        "#              [31.   , 57.83 , 55.559, 57.094],\n",
        "#              [36.   , 58.634, 57.599, 55.835],\n",
        "#              [41.   , 58.942, 61.771, 65.595],\n",
        "#              [46.   , 63.796, 62.747, 65.087],\n",
        "#              [51.   , 61.448, 59.106, 68.988],\n",
        "#              [56.   , 65.13 , 69.53 , 62.655]])\n",
        "#\n",
        "# s = x[:,0]\n",
        "# v = x[:,1:]\n",
        "# np.hstack((s.reshape(-1,1),v))\n",
        "# nrepl = 3\n",
        "# npoints = 12"
      ],
      "execution_count": 0,
      "outputs": []
    },
    {
      "cell_type": "code",
      "metadata": {
        "id": "oL3SIi0w07aT",
        "colab_type": "code",
        "colab": {}
      },
      "source": [
        "# create a pandas data frame with the data\n",
        "# also works:\n",
        "# enz_data.iloc[:,1:4].mean(axis=1)\n",
        "# enz_data.iloc[:,1:4].std(axis=1)\n",
        "#\n",
        "columns = ['[A]']\n",
        "columns = columns + ['v'+str(i+1) for i in range(nrepl)]\n",
        "enz_data = pd.DataFrame(np.hstack([s.reshape(-1,1),v]),columns=columns)\n",
        "enz_data['Mean v']=enz_data[['v1','v2','v3']].mean(axis=1)\n",
        "enz_data['Std v']=enz_data[['v1','v2','v3']].std(axis=1)\n",
        "#enz_data['fit_error']=enz_data['Mean v']-MM(Km,Vmax,enz_data['[A]'])\n",
        "enz_data"
      ],
      "execution_count": 0,
      "outputs": []
    },
    {
      "cell_type": "markdown",
      "metadata": {
        "id": "6WzYDMKcSeyH",
        "colab_type": "text"
      },
      "source": [
        "#### Create the Direct Linear Plot and Compute the Median Estimates of Km and Vmax"
      ]
    },
    {
      "cell_type": "code",
      "metadata": {
        "id": "UbKUUyjYJUrp",
        "colab_type": "code",
        "colab": {}
      },
      "source": [
        "style.use('default')\n",
        "vm = v.mean(axis=1)\n",
        "x = np.arange(-s.max(),s.max(),0.01)\n",
        "Vmax_intersect = []\n",
        "Km_intersect = []\n",
        "mmlines = np.vstack((vm/s,vm)).T\n",
        "n_int = len(s)*(len(s)-1)//2\n",
        "Km_int = np.zeros(n_int)\n",
        "Vmax_int = np.zeros(n_int)\n",
        "\n",
        "for m, b in mmlines:\n",
        "  plt.plot(x,m*x+b)\n",
        "\n",
        "print(\"Computing {:d} intersections\".format(n_int))\n",
        "for i in range(mmlines.shape[0]):\n",
        "  for j in range(i):\n",
        "    m1, b1 = mmlines[i]\n",
        "    m2, b2 = mmlines[j]\n",
        "    x = (b2-b1)/(m1-m2)\n",
        "    y = (b2*m1-b1*m2)/(m1-m2)\n",
        "    Km_intersect.append(x)\n",
        "    Vmax_intersect.append(y)\n",
        "    #print(x,y)\n",
        "    #pass\n",
        "    #print(i,j,mmlines[i],mmlines[j])\n",
        "\n",
        "ax = plt.gca()\n",
        "ax.axis([-1.1*s.max(),1.1*s.max(),-2*vm.max(),2*vm.max()])\n",
        "ax.spines['left'].set_position('center')\n",
        "ax.spines['bottom'].set_position('center')\n",
        "ax.spines['right'].set_color('none')\n",
        "ax.spines['top'].set_color('none')\n",
        "ax.xaxis.set_ticks_position('bottom')\n",
        "ax.yaxis.set_ticks_position('left')\n",
        "#ax.set_xlabel(\"Km\")\n",
        "#ax.set_ylabel(\"Vmax\")\n",
        "#ax.set_ylabel?\n",
        "print(\"Median Estimate of Km: {:5.2f}\".format(np.median(Km_intersect))) \n",
        "print(\"Median Estimate of Vmax: {:5.2f}\".format(np.median(Vmax_intersect)))  "
      ],
      "execution_count": 0,
      "outputs": []
    },
    {
      "cell_type": "code",
      "metadata": {
        "id": "_4FFh9NZ8wqN",
        "colab_type": "code",
        "colab": {}
      },
      "source": [
        ""
      ],
      "execution_count": 0,
      "outputs": []
    }
  ]
}