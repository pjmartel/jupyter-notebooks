{
 "cells": [
  {
   "cell_type": "markdown",
   "metadata": {
    "colab_type": "text",
    "id": "IydDD9dV1YfK"
   },
   "source": [
    "Linear regression (first degree, errors only on dependent variable)  for the simple linear model:\n",
    "\n",
    "$$ y  = mx + b $$\n",
    "\n",
    "with confindence intervals on for $\\hat m$ and $\\hat b$.\n",
    "\n",
    "\n",
    "Standard error of $\\hat m$:\n",
    "\n",
    "$${\\displaystyle s_{\\widehat {\\beta }}={\\sqrt {\\frac {{\\frac {1}{n-2}}\\sum _{i=1}^{n}{\\widehat {\\varepsilon }}_{i}^{\\,2}}{\\sum _{i=1}^{n}(x_{i}-{\\bar {x}})^{2}}}}}$$\n",
    "\n",
    "Standard error of $\\hat b$:\n",
    "\n",
    "$${\\displaystyle s_{\\widehat {\\alpha }}=s_{\\widehat {\\beta }}{\\sqrt {{\\frac {1}{n}}\\sum _{i=1}^{n}x_{i}^{2}}}={\\sqrt {{\\frac {1}{n(n-2)}}\\left(\\sum _{i=1}^{n}{\\widehat {\\varepsilon }}_{j}^{\\,2}\\right){\\frac {\\sum _{i=1}^{n}x_{i}^{2}}{\\sum _{i=1}^{n}(x_{i}-{\\bar {x}})^{2}}}}}}$$\n",
    "\n",
    "\n",
    "Confidence interval for $\\hat m$ :\n",
    "\n",
    "\n",
    "$${\\displaystyle \\beta \\in \\left[{\\widehat {\\beta }}-s_{\\widehat {\\beta }}t_{n-2}^{*},\\ {\\widehat {\\beta }}+s_{\\widehat {\\beta }}t_{n-2}^{*}\\right]}$$\n",
    "\n",
    "\n",
    "where ${\\displaystyle t_{n-2}^{*}}$ is the ${\\displaystyle \\scriptstyle \\left(1\\;-\\;{\\frac {\\gamma }{2}}\\right){\\text{-th}}}$ quantile of the Student's t distribution with n−2 degrees of freedom. For example, if γ = 0.05 then the confidence level is 95%\n",
    "\n",
    "Confidence interval for $\\hat b$ :\n",
    "\n",
    "$${\\displaystyle \\alpha \\in \\left[{\\widehat {\\alpha }}-s_{\\widehat {\\alpha }}t_{n-2}^{*},\\ {\\widehat {\\alpha }}+s_{\\widehat {\\alpha }}t_{n-2}^{*}\\right]}$$\n",
    "\n",
    "Confidence band around the regression line:\n",
    "\n",
    "$${\\displaystyle (\\alpha +\\beta \\xi )\\in \\left[\\,{\\widehat {\\alpha }}+{\\widehat {\\beta }}\\xi \\pm t_{n-2}^{*}{\\sqrt {\\left({\\frac {1}{n-2}}\\sum {\\widehat {\\varepsilon }}_{i}^{\\,2}\\right)\\cdot \\left({\\frac {1}{n}}+{\\frac {(\\xi -{\\bar {x}})^{2}}{\\sum (x_{i}-{\\bar {x}})^{2}}}\\right)}}\\,\\right].}$$"
   ]
  },
  {
   "cell_type": "code",
   "execution_count": 7,
   "metadata": {
    "colab": {},
    "colab_type": "code",
    "id": "Zule_82wHEKe"
   },
   "outputs": [],
   "source": [
    "import numpy as np\n",
    "import matplotlib.pyplot as plt\n",
    "from scipy.stats import t\n",
    "import numpy.random as rnd\n",
    "from matplotlib import style\n",
    "style.use('ggplot')\n",
    "import pandas as pd\n",
    "pd.options.display.float_format = '{:,.3f}'.format\n",
    "import ipywidgets as ipyw\n",
    "import qgrid\n"
   ]
  },
  {
   "cell_type": "code",
   "execution_count": 27,
   "metadata": {},
   "outputs": [
    {
     "name": "stdout",
     "output_type": "stream",
     "text": [
      "Number of points? 3\n",
      "Number of replicates? 1\n"
     ]
    }
   ],
   "source": [
    "# Function to validate input by data type\n",
    "def check_input(f_type,message):\n",
    "    \"\"\"\n",
    "Wrapper around the input function, reads input\n",
    "until it matches the required data type. \n",
    "    \"\"\"\n",
    "    flag = True\n",
    "    while flag:\n",
    "        value = input(message)\n",
    "        try:\n",
    "            value = f_type(value)\n",
    "            flag = False\n",
    "        except ValueError:\n",
    "            pass\n",
    "    return value\n",
    "\n",
    "# Read the number of points and replicates\n",
    "npoints = check_input(int,\"Number of points? \")\n",
    "nrepl = check_input(int,\"Number of replicates? \")"
   ]
  },
  {
   "cell_type": "code",
   "execution_count": 28,
   "metadata": {},
   "outputs": [
    {
     "data": {
      "application/vnd.jupyter.widget-view+json": {
       "model_id": "fb2a4ea5e216414fbfa0485cfcf1f982",
       "version_major": 2,
       "version_minor": 0
      },
      "text/plain": [
       "QgridWidget(grid_options={'fullWidthRows': True, 'syncColumnCellResize': True, 'forceFitColumns': True, 'defau…"
      ]
     },
     "metadata": {},
     "output_type": "display_data"
    }
   ],
   "source": [
    "# create an empy pandas data frame with the\n",
    "# npoint lines and nrepl+1 columns\n",
    "# enz_data.iloc[:,1:4].mean(axis=1)\n",
    "# enz_data.iloc[:,1:4].std(axis=1)\n",
    "#\n",
    "columns = ['x']\n",
    "columns = columns + ['y'+str(i+1) for i in range(nrepl)]\n",
    "input_data = pd.DataFrame(np.zeros((npoints, nrepl+1)),columns=columns)\n",
    "#enz_data = pd.DataFrame(np.hstack([s.reshape(-1,1),v]),columns=columns)\n",
    "# Create a qgrid table to input the data\n",
    "qgrid_widget = qgrid.show_grid(input_data, show_toolbar=False)\n",
    "qgrid_widget.layout = ipyw.Layout(width='50%')\n",
    "qgrid_widget"
   ]
  },
  {
   "cell_type": "code",
   "execution_count": 45,
   "metadata": {},
   "outputs": [
    {
     "data": {
      "text/html": [
       "<div>\n",
       "<style scoped>\n",
       "    .dataframe tbody tr th:only-of-type {\n",
       "        vertical-align: middle;\n",
       "    }\n",
       "\n",
       "    .dataframe tbody tr th {\n",
       "        vertical-align: top;\n",
       "    }\n",
       "\n",
       "    .dataframe thead th {\n",
       "        text-align: right;\n",
       "    }\n",
       "</style>\n",
       "<table border=\"1\" class=\"dataframe\">\n",
       "  <thead>\n",
       "    <tr style=\"text-align: right;\">\n",
       "      <th></th>\n",
       "      <th>x</th>\n",
       "      <th>y1</th>\n",
       "      <th>Mean v</th>\n",
       "      <th>Std v</th>\n",
       "    </tr>\n",
       "  </thead>\n",
       "  <tbody>\n",
       "    <tr>\n",
       "      <th>0</th>\n",
       "      <td>1.000</td>\n",
       "      <td>3.200</td>\n",
       "      <td>3.200</td>\n",
       "      <td>nan</td>\n",
       "    </tr>\n",
       "    <tr>\n",
       "      <th>1</th>\n",
       "      <td>2.000</td>\n",
       "      <td>4.900</td>\n",
       "      <td>4.900</td>\n",
       "      <td>nan</td>\n",
       "    </tr>\n",
       "    <tr>\n",
       "      <th>2</th>\n",
       "      <td>3.000</td>\n",
       "      <td>6.800</td>\n",
       "      <td>6.800</td>\n",
       "      <td>nan</td>\n",
       "    </tr>\n",
       "  </tbody>\n",
       "</table>\n",
       "</div>"
      ],
      "text/plain": [
       "      x    y1  Mean v  Std v\n",
       "0 1.000 3.200   3.200    nan\n",
       "1 2.000 4.900   4.900    nan\n",
       "2 3.000 6.800   6.800    nan"
      ]
     },
     "execution_count": 45,
     "metadata": {},
     "output_type": "execute_result"
    }
   ],
   "source": [
    "input_data = qgrid_widget.get_changed_df()\n",
    "input_data['Mean v']=input_data.iloc[:,1:].mean(axis=1)\n",
    "input_data['Std v']=input_data.iloc[:,1:-1].std(ddof=1.5,axis=1)\n",
    "#enz_data['fit_error']=enz_data['Mean v']-MM(Km,Vmax,enz_data['[A]'])\n",
    "input_data"
   ]
  },
  {
   "cell_type": "code",
   "execution_count": 46,
   "metadata": {},
   "outputs": [],
   "source": [
    "y = np.array(input_data.iloc[:,1:-2])\n",
    "x = np.array(input_data['x'])"
   ]
  },
  {
   "cell_type": "code",
   "execution_count": 47,
   "metadata": {
    "colab": {
     "base_uri": "https://localhost:8080/",
     "height": 322
    },
    "colab_type": "code",
    "id": "5pSvz-GNHXC8",
    "outputId": "ce35a9cf-22ae-4449-c250-64c2ba8e5500"
   },
   "outputs": [
    {
     "name": "stdout",
     "output_type": "stream",
     "text": [
      "m̂= 1.7999999999999996\n",
      "b̂= 1.3666666666666691\n",
      "residuals= 0.006666666666666736\n"
     ]
    },
    {
     "data": {
      "image/png": "[encoded data removed]",
      "text/plain": [
       "<Figure size 432x288 with 1 Axes>"
      ]
     },
     "metadata": {},
     "output_type": "display_data"
    }
   ],
   "source": [
    "# m̂ b̂ \n",
    "# m = 2\n",
    "# b = 1\n",
    "# sigma = 1\n",
    "# N = 10\n",
    "# bhat = 100\n",
    "# resi = -1 \n",
    "# while(abs(bhat-b) > 0.1 or abs(m-mhat) > 0.1):\n",
    "#   x = np.arange(0, N, 0.3)\n",
    "#   y = m*x + b + rnd.normal(0,sigma,len(x))\n",
    "ym = y.mean(axis=1)\n",
    "(mhat, bhat), [resi], _, _, _ = np.polyfit(x,ym,deg=1,full=True)\n",
    "plt.plot(x, ym, 'ro', x, mhat*x + bhat,'g--')\n",
    "plt.legend([\"data\",\"fit\"])\n",
    "print(\"m̂=\",mhat)\n",
    "print(\"b̂=\",bhat)\n",
    "print(\"residuals=\",resi)\n"
   ]
  },
  {
   "cell_type": "code",
   "execution_count": 48,
   "metadata": {
    "colab": {
     "base_uri": "https://localhost:8080/",
     "height": 123
    },
    "colab_type": "code",
    "id": "U2NvsYLfs3bS",
    "outputId": "8db39118-5663-4e22-cada-d2002b7550a5"
   },
   "outputs": [
    {
     "name": "stdout",
     "output_type": "stream",
     "text": [
      "m estimate: 1.7999999999999996\n",
      "b estimate: 1.3666666666666691\n",
      "95.0% confidence interval for m:  [1.7556209297295358, 1.8443790702704634]\n",
      "95.0% confidence interval for b :  [1.27079691771357, 1.4625364156197682]\n",
      "R**2: (cf. of determination) 0.9989722507708119\n",
      "Pearson correlation: 0.9994859932839539\n"
     ]
    }
   ],
   "source": [
    "def sdmean(x):\n",
    "    \"\"\"\n",
    "Computes the sum square devation from the mean.\n",
    "    \"\"\"\n",
    "    from numpy import var\n",
    "    return var(x,ddof=0)*len(x)\n",
    "#\n",
    "N=npoints\n",
    "interval = 0.95 # confidence interval\n",
    "gamma = 1-interval\n",
    "SDM = sdmean(x)\n",
    "sem = np.sqrt(resi/(N-1)/SDM)\n",
    "seb = sem*np.sqrt((x**2).mean())\n",
    "tval = t.ppf(1-gamma/2,df=N-2)\n",
    "print(\"m estimate:\", mhat)\n",
    "print(\"b estimate:\", bhat)\n",
    "#print(np.sqrt(sigma**2/SDM))\n",
    "#print(np.sqrt( sigma**2 * (1/len(x)+x.mean()**2/SDM)))\n",
    "#print(mbhat)\n",
    "print(f\"{100*interval}% confidence interval for m: \".format(interval),\n",
    "      [mhat-sem*tval, mhat+sem*tval])\n",
    "print(f\"{100*interval}% confidence interval for b : \".format(interval),\n",
    "      [bhat-seb*tval, bhat+seb*tval])\n",
    "print(\"R**2: (cf. of determination)\",1-resi/sdmean(ym))\n",
    "print(\"Pearson correlation:\",np.corrcoef(x,ym)[0,1])\n",
    "\n"
   ]
  },
  {
   "cell_type": "code",
   "execution_count": 50,
   "metadata": {},
   "outputs": [
    {
     "data": {
      "text/plain": [
       "3"
      ]
     },
     "execution_count": 50,
     "metadata": {},
     "output_type": "execute_result"
    }
   ],
   "source": [
    "npoints"
   ]
  },
  {
   "cell_type": "code",
   "execution_count": null,
   "metadata": {},
   "outputs": [],
   "source": []
  }
 ],
 "metadata": {
  "colab": {
   "collapsed_sections": [],
   "name": "linear_regression_confidence.ipynb",
   "provenance": [],
   "version": "0.3.2"
  },
  "kernelspec": {
   "display_name": "Python 3",
   "language": "python",
   "name": "python3"
  },
  "language_info": {
   "codemirror_mode": {
    "name": "ipython",
    "version": 3
   },
   "file_extension": ".py",
   "mimetype": "text/x-python",
   "name": "python",
   "nbconvert_exporter": "python",
   "pygments_lexer": "ipython3",
   "version": "3.6.7"
  }
 },
 "nbformat": 4,
 "nbformat_minor": 1
}
